{
 "cells": [
  {
   "cell_type": "markdown",
   "id": "6dda4748-1d16-4ba4-ae5b-8409c5b1a78d",
   "metadata": {},
   "source": [
    "# OHC Turbo Efficiency Test - Version 0.0.1\n",
    "![Efficiency map](../media/compressor-maps-explained1.jpg)\n",
    "(available in: https://chaodaoficina.wordpress.com/2016/01/31/turbocompressores-mapas-de-eficiencia/)"
   ]
  },
  {
   "cell_type": "code",
   "execution_count": null,
   "id": "e4897bf2-6ac0-463d-a48b-8b7402558c50",
   "metadata": {},
   "outputs": [],
   "source": []
  }
 ],
 "metadata": {
  "kernelspec": {
   "display_name": "Python 3 (ipykernel)",
   "language": "python",
   "name": "python3"
  },
  "language_info": {
   "codemirror_mode": {
    "name": "ipython",
    "version": 3
   },
   "file_extension": ".py",
   "mimetype": "text/x-python",
   "name": "python",
   "nbconvert_exporter": "python",
   "pygments_lexer": "ipython3",
   "version": "3.8.18"
  }
 },
 "nbformat": 4,
 "nbformat_minor": 5
}
