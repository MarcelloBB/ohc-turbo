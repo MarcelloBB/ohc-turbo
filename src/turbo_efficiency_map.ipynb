{
 "cells": [
  {
   "cell_type": "markdown",
   "id": "6dda4748-1d16-4ba4-ae5b-8409c5b1a78d",
   "metadata": {},
   "source": [
    "# OHC Turbo Efficiency Test - Version 0.0.1\n",
    "![Efficiency map](../media/compressor-maps-explained1.jpg)\n",
    "(available in: https://chaodaoficina.wordpress.com/2016/01/31/turbocompressores-mapas-de-eficiencia/)"
   ]
  },
  {
   "cell_type": "code",
   "execution_count": 3,
   "id": "e4897bf2-6ac0-463d-a48b-8b7402558c50",
   "metadata": {},
   "outputs": [],
   "source": [
    "import sympy as sp\n",
    "from sympy import symbols, Eq, sqrt\n",
    "from sympy.printing import latex\n",
    "from IPython.display import display, Math"
   ]
  },
  {
   "cell_type": "code",
   "execution_count": 9,
   "id": "fafa0da1-975d-489a-b4a2-adfd00ea3c85",
   "metadata": {},
   "outputs": [],
   "source": [
    "# Symbol definition\n",
    "mdot, T, P_in, P_ref, T_ref, P_out = symbols('mdot T P_in P_ref T_ref P_out')\n",
    "\n",
    "# 1) Corrected mass flow\n",
    "mdot_corr = mdot * sqrt(T_ref/T) * (P_in/P_ref)\n",
    "eq1 = Eq(symbols('mdot_corr'), mdot_corr)\n",
    "\n",
    "# 2) Expansion ratio\n",
    "pi_t = P_in/P_out\n",
    "eq2 = Eq(symbols('pi_t'), pi_t)"
   ]
  },
  {
   "cell_type": "code",
   "execution_count": 10,
   "id": "12b1102c-0a89-4e58-a78d-489b9fe6a5b4",
   "metadata": {},
   "outputs": [
    {
     "data": {
      "text/latex": [
       "$\\displaystyle \\text{1) Corrected mass flow: }\\dot{m}_{corr} = \\frac{P_{in} \\dot{m} \\sqrt{\\frac{T_{ref}}{T}}}{P_{ref}}$"
      ],
      "text/plain": [
       "<IPython.core.display.Math object>"
      ]
     },
     "metadata": {},
     "output_type": "display_data"
    },
    {
     "data": {
      "text/latex": [
       "$\\displaystyle \\text{2) Expansion ratio: }\\pi_{t} = \\frac{P_{in}}{P_{out}}$"
      ],
      "text/plain": [
       "<IPython.core.display.Math object>"
      ]
     },
     "metadata": {},
     "output_type": "display_data"
    }
   ],
   "source": [
    "display(Math(r'\\text{1) Corrected mass flow: }' + latex(eq1)))\n",
    "display(Math(r'\\text{2) Expansion ratio: }' + latex(eq2)))"
   ]
  },
  {
   "cell_type": "code",
   "execution_count": 90,
   "id": "766139d0-364c-4785-addc-bf818c87abf5",
   "metadata": {},
   "outputs": [
    {
     "data": {
      "text/plain": [
       "13.38216"
      ]
     },
     "execution_count": 90,
     "metadata": {},
     "output_type": "execute_result"
    }
   ],
   "source": [
    "combustivel = 'alcool'\n",
    "cc = 1378\n",
    "potencia = 110\n",
    "\n",
    "# Air fuel relation # 12 gasoline\n",
    "af_lambda = 12\n",
    "# Power in CV (*1,0138)\n",
    "cv = 120\n",
    "hp = cv * 1.0138\n",
    "\n",
    "BRAKE_SPECIFIC_FUEL_COMSUMPTION = 0.55 / 60\n",
    "\n",
    "# Needed air flow, in lb/min\n",
    "wa =  hp * af_lambda * BRAKE_SPECIFIC_FUEL_COMSUMPTION\n",
    "wa"
   ]
  },
  {
   "cell_type": "code",
   "execution_count": 91,
   "id": "8b68a400-30a4-47eb-a03a-cf001e03c7ea",
   "metadata": {},
   "outputs": [
    {
     "data": {
      "text/plain": [
       "23.19994857108457"
      ]
     },
     "execution_count": 91,
     "metadata": {},
     "output_type": "execute_result"
    }
   ],
   "source": [
    "# Constant\n",
    "R = 639.6\n",
    "# Temperatura do coletor de admissão em Fahrenheit\n",
    "Tm = 130\n",
    "# Eficiência volumétrica\n",
    "VE = 0.98\n",
    "# Engine rotation\n",
    "rpm = 5200\n",
    "# Cilindrada total (em polegadas cúbicas)\n",
    "cc = 1.4\n",
    "Vd = cc * 61.02\n",
    "# Pressão absoluta (em libra por polegada quadrada)\n",
    "MAPreq = (wa * R * (460 + Tm)) / (VE * (rpm/2) * Vd)\n",
    "MAPreq"
   ]
  },
  {
   "cell_type": "code",
   "execution_count": 92,
   "id": "b340eb3d-9302-4be7-824d-1f979866db7a",
   "metadata": {},
   "outputs": [
    {
     "data": {
      "text/plain": [
       "8.49994857108457"
      ]
     },
     "execution_count": 92,
     "metadata": {},
     "output_type": "execute_result"
    }
   ],
   "source": [
    "# Pressão atmosférica (PSI)\n",
    "ATM = 14.7\n",
    "# Pressão atmosférica pré turbina (PSI) -> considerando 1 PSI\n",
    "PRE_RESTRICTION_ATM = 1\n",
    "# Pressão resultante (PSI)\n",
    "PFT = ATM - PRE_RESTRICTION_ATM\n",
    "\n",
    "atm_delta = MAPreq - ATM\n",
    "atm_delta"
   ]
  },
  {
   "cell_type": "code",
   "execution_count": 93,
   "id": "2fc6b32c-a4c8-4c3c-a5e5-01706311774d",
   "metadata": {},
   "outputs": [
    {
     "data": {
      "text/plain": [
       "25.19994857108457"
      ]
     },
     "execution_count": 93,
     "metadata": {},
     "output_type": "execute_result"
    }
   ],
   "source": [
    "# Deduzindo que a restrição de ar no motor seja de 2 PSI\n",
    "AIR_RESTRICTION = 2\n",
    "\n",
    "rel_pressure = MAPreq + AIR_RESTRICTION\n",
    "rel_pressure"
   ]
  },
  {
   "cell_type": "code",
   "execution_count": 94,
   "id": "54aef420-3cad-40ed-8676-f9049ed635ad",
   "metadata": {},
   "outputs": [
    {
     "data": {
      "text/plain": [
       "1.8394123044587278"
      ]
     },
     "execution_count": 94,
     "metadata": {},
     "output_type": "execute_result"
    }
   ],
   "source": [
    "pRAT = rel_pressure / PFT\n",
    "pRAT"
   ]
  },
  {
   "cell_type": "code",
   "execution_count": 95,
   "id": "a0d2eb48-2d23-4322-9a75-ba0f1308e4a3",
   "metadata": {},
   "outputs": [
    {
     "data": {
      "text/plain": [
       "0.10116846593486346"
      ]
     },
     "execution_count": 95,
     "metadata": {},
     "output_type": "execute_result"
    }
   ],
   "source": [
    "# Converter para Kg/s\n",
    "wa_converted = (wa / 2.2046) / 60\n",
    "wa_converted"
   ]
  },
  {
   "cell_type": "code",
   "execution_count": 96,
   "id": "6d67265d-7fda-4f7c-9913-35cd9d6ad099",
   "metadata": {},
   "outputs": [
    {
     "data": {
      "text/plain": [
       "13.38216"
      ]
     },
     "execution_count": 96,
     "metadata": {},
     "output_type": "execute_result"
    }
   ],
   "source": [
    "# pRAT\n",
    "wa"
   ]
  }
 ],
 "metadata": {
  "kernelspec": {
   "display_name": "Python 3 (ipykernel)",
   "language": "python",
   "name": "python3"
  },
  "language_info": {
   "codemirror_mode": {
    "name": "ipython",
    "version": 3
   },
   "file_extension": ".py",
   "mimetype": "text/x-python",
   "name": "python",
   "nbconvert_exporter": "python",
   "pygments_lexer": "ipython3",
   "version": "3.8.18"
  }
 },
 "nbformat": 4,
 "nbformat_minor": 5
}
