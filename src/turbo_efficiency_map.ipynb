{
 "cells": [
  {
   "cell_type": "markdown",
   "id": "6dda4748-1d16-4ba4-ae5b-8409c5b1a78d",
   "metadata": {},
   "source": [
    "# OHC Turbo Efficiency Test - Version 0.0.1\n",
    "![Efficiency map](../media/compressor-maps-explained1.jpg)\n",
    "(available in: https://chaodaoficina.wordpress.com/2016/01/31/turbocompressores-mapas-de-eficiencia/)"
   ]
  },
  {
   "cell_type": "code",
   "execution_count": 3,
   "id": "e4897bf2-6ac0-463d-a48b-8b7402558c50",
   "metadata": {},
   "outputs": [],
   "source": [
    "import sympy as sp\n",
    "from sympy import symbols, Eq, sqrt\n",
    "from sympy.printing import latex\n",
    "from IPython.display import display, Math"
   ]
  },
  {
   "cell_type": "code",
   "execution_count": 9,
   "id": "fafa0da1-975d-489a-b4a2-adfd00ea3c85",
   "metadata": {},
   "outputs": [],
   "source": [
    "# Symbol definition\n",
    "mdot, T, P_in, P_ref, T_ref, P_out = symbols('mdot T P_in P_ref T_ref P_out')\n",
    "\n",
    "# 1) Corrected mass flow\n",
    "mdot_corr = mdot * sqrt(T_ref/T) * (P_in/P_ref)\n",
    "eq1 = Eq(symbols('mdot_corr'), mdot_corr)\n",
    "\n",
    "# 2) Expansion ratio\n",
    "pi_t = P_in/P_out\n",
    "eq2 = Eq(symbols('pi_t'), pi_t)"
   ]
  },
  {
   "cell_type": "code",
   "execution_count": null,
   "id": "dfaa4091-96b0-4cb0-b7ae-7620c7616189",
   "metadata": {},
   "outputs": [],
   "source": []
  },
  {
   "cell_type": "code",
   "execution_count": 10,
   "id": "12b1102c-0a89-4e58-a78d-489b9fe6a5b4",
   "metadata": {},
   "outputs": [
    {
     "data": {
      "text/latex": [
       "$\\displaystyle \\text{1) Corrected mass flow: }\\dot{m}_{corr} = \\frac{P_{in} \\dot{m} \\sqrt{\\frac{T_{ref}}{T}}}{P_{ref}}$"
      ],
      "text/plain": [
       "<IPython.core.display.Math object>"
      ]
     },
     "metadata": {},
     "output_type": "display_data"
    },
    {
     "data": {
      "text/latex": [
       "$\\displaystyle \\text{2) Expansion ratio: }\\pi_{t} = \\frac{P_{in}}{P_{out}}$"
      ],
      "text/plain": [
       "<IPython.core.display.Math object>"
      ]
     },
     "metadata": {},
     "output_type": "display_data"
    }
   ],
   "source": [
    "display(Math(r'\\text{1) Corrected mass flow: }' + latex(eq1)))\n",
    "display(Math(r'\\text{2) Expansion ratio: }' + latex(eq2)))"
   ]
  },
  {
   "cell_type": "code",
   "execution_count": null,
   "id": "766139d0-364c-4785-addc-bf818c87abf5",
   "metadata": {},
   "outputs": [],
   "source": []
  }
 ],
 "metadata": {
  "kernelspec": {
   "display_name": "Python 3 (ipykernel)",
   "language": "python",
   "name": "python3"
  },
  "language_info": {
   "codemirror_mode": {
    "name": "ipython",
    "version": 3
   },
   "file_extension": ".py",
   "mimetype": "text/x-python",
   "name": "python",
   "nbconvert_exporter": "python",
   "pygments_lexer": "ipython3",
   "version": "3.8.18"
  }
 },
 "nbformat": 4,
 "nbformat_minor": 5
}
